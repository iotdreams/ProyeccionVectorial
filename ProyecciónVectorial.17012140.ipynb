{
 "cells": [
  {
   "cell_type": "markdown",
   "metadata": {},
   "source": [
    "#### Erick J. Pineda Amézquita\n",
    "17012140"
   ]
  },
  {
   "cell_type": "markdown",
   "metadata": {},
   "source": [
    "# Proyección Vectorial"
   ]
  },
  {
   "cell_type": "markdown",
   "metadata": {},
   "source": [
    "\n",
    "¿Qué es proyección vectorial?\n",
    "\n",
    "R//\n",
    "El concepto de proyección vectorial se utliza para comparar la magnitud de dos vectores que tienen un punto de origen común y forman un ángulo A, entre ellos. En palabras sencillas, es encontrar la sombra que hace un vector sobre otro.\n",
    "Se hace la observación que para ello se requieren 2 vectores y que no es no lo mismo la proyección del vector A con B, que la proyección de B con A.\n",
    "\n"
   ]
  },
  {
   "cell_type": "markdown",
   "metadata": {},
   "source": [
    "-Definir una ufunc para calcular proyección vectorial sobre vectores de Numpy\n",
    "\n",
    "R// Comúnmente se utilizan las letras v y u para la proyección de vectores:\n",
    "\n"
   ]
  },
  {
   "cell_type": "code",
   "execution_count": 3,
   "metadata": {},
   "outputs": [],
   "source": [
    "## import de Numpy\n",
    "import numpy as np\n",
    "\n",
    "\n",
    "## Para la función se requiere aplicar el producto punto entre ambos vectores\n",
    "\n",
    "def proyeccionVec(v, u):\n",
    "    return (np.dot(u,v)/np.dot(v,v)) * v\n",
    "\n"
   ]
  },
  {
   "cell_type": "markdown",
   "metadata": {},
   "source": [
    "-Como interpretamos la proyección vectorial?\n",
    "\n",
    "R///\n",
    "Como la sombra sobre una recta que forma un segmento AB sobre otro vector.\n",
    "\n"
   ]
  },
  {
   "cell_type": "markdown",
   "metadata": {},
   "source": [
    "-Utilizando la función del punto anterior calcularla para vectores de ejemplo e interpretar o concluir sobre el resultado.\n",
    "\n"
   ]
  },
  {
   "cell_type": "code",
   "execution_count": 6,
   "metadata": {},
   "outputs": [
    {
     "name": "stdout",
     "output_type": "stream",
     "text": [
      "[3.2 6.4]\n",
      "[1. 2.]\n",
      "Notar que se obtiene el mismo vector\n"
     ]
    }
   ],
   "source": [
    "#Valores de ejemplo\n",
    "\n",
    "v = np.array([2,4])\n",
    "u = np.array([2,7])\n",
    "\n",
    "print(proyeccionVec(v,u))\n",
    "\n",
    "\n",
    "v = np.array([1,2])\n",
    "u = np.array([1,2])\n",
    "\n",
    "\n",
    "print(proyeccionVec(v,u))\n",
    "print(\"Notar que se obtiene el mismo vector ya que la proyección es la misma\")\n",
    "\n"
   ]
  }
 ],
 "metadata": {
  "kernelspec": {
   "display_name": "Python 3",
   "language": "python",
   "name": "python3"
  },
  "language_info": {
   "codemirror_mode": {
    "name": "ipython",
    "version": 3
   },
   "file_extension": ".py",
   "mimetype": "text/x-python",
   "name": "python",
   "nbconvert_exporter": "python",
   "pygments_lexer": "ipython3",
   "version": "3.7.1"
  }
 },
 "nbformat": 4,
 "nbformat_minor": 2
}
